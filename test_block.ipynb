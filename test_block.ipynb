{
 "cells": [
  {
   "cell_type": "code",
   "execution_count": 1,
   "metadata": {},
   "outputs": [],
   "source": [
    "from core.block import Block, BlockHeader\n",
    "from core.transaction import Transaction\n",
    "from core.merkle_tree import get_merkle_root\n",
    "from datetime import datetime"
   ]
  },
  {
   "cell_type": "code",
   "execution_count": 25,
   "metadata": {},
   "outputs": [],
   "source": [
    "T_data_2 = {\n",
    "    \"student_name\": \"Trịnh Đình Anh\",\n",
    "    \"student_code\": \"19050011\",\n",
    "    \"teacher_name\": \"Huỳnh Quang Đức\",\n",
    "    \"course_name\": \"Digital Marketing\",\n",
    "    \"mark\": \"10.00\",\n",
    "}\n",
    "\n",
    "T_data_3 = {\n",
    "    \"student_name\": \"Nguyễn Hoàng Nam\",\n",
    "    \"student_code\": \"19050032\",\n",
    "    \"teacher_name\": \"Huỳnh Quang Đức\",\n",
    "    \"course_name\": \"Digital Marketing\",\n",
    "    \"mark\": \"5.00\",\n",
    "}"
   ]
  },
  {
   "cell_type": "code",
   "execution_count": 26,
   "metadata": {},
   "outputs": [],
   "source": [
    "tx1 = Transaction(T_data_1)\n",
    "tx2 = Transaction(T_data_2)\n",
    "tx3 = Transaction(T_data_3)\n",
    "tx4 = Transaction(t_data_4)"
   ]
  },
  {
   "cell_type": "code",
   "execution_count": 27,
   "metadata": {},
   "outputs": [
    {
     "data": {
      "text/plain": [
       "{'txid': 'edf336e911648188c10eadf2e22deab8ca35a0d0da852e20d8fea371886acce2',\n",
       " 'timestamp': 1714410500.873135,\n",
       " 'data': {'data': 'Test Mining'}}"
      ]
     },
     "execution_count": 27,
     "metadata": {},
     "output_type": "execute_result"
    }
   ],
   "source": [
    "tx4.transaction_data"
   ]
  },
  {
   "cell_type": "code",
   "execution_count": 17,
   "metadata": {},
   "outputs": [],
   "source": [
    "block_header_1 = BlockHeader(\"0000000000000000000000000000000000000000000000000000000000000000\", get_merkle_root([tx1.transaction_data]), datetime.now().timestamp(), 12)"
   ]
  },
  {
   "cell_type": "code",
   "execution_count": 18,
   "metadata": {},
   "outputs": [],
   "source": [
    "block_header_2 = BlockHeader(block_header_1.hash, get_merkle_root([tx2.transaction_data]), datetime.now().timestamp(), 13)"
   ]
  },
  {
   "cell_type": "code",
   "execution_count": 19,
   "metadata": {},
   "outputs": [],
   "source": [
    "block_header_3 = BlockHeader(block_header_2.hash, get_merkle_root([tx3.transaction_data]), datetime.now().timestamp(), 14)"
   ]
  },
  {
   "cell_type": "code",
   "execution_count": 20,
   "metadata": {},
   "outputs": [],
   "source": [
    "block_1 = Block([tx1.transaction_data], block_header_1)"
   ]
  },
  {
   "cell_type": "code",
   "execution_count": 21,
   "metadata": {},
   "outputs": [],
   "source": [
    "block_2 = Block([tx2.transaction_data], block_header_2, block_1)"
   ]
  },
  {
   "cell_type": "code",
   "execution_count": 22,
   "metadata": {},
   "outputs": [],
   "source": [
    "block_3 = Block([tx3.transaction_data], block_header_3, block_2)"
   ]
  },
  {
   "cell_type": "code",
   "execution_count": 23,
   "metadata": {},
   "outputs": [
    {
     "data": {
      "text/plain": [
       "[{'header': {'previous_block_hash': '713031c6dd54ef5bc9471f4207878f1fdd69a32fea2327a3dab6f55a38e21293',\n",
       "   'merkle_root': '63e5623e6c754585834e55611c16103771457e4c198fff578bf9cd22f76e8098',\n",
       "   'timestamp': 1714409586.33072,\n",
       "   'noonce': 14,\n",
       "   'hash': 'd20f410b1a02a545998a3c447da5d1d539c80e63c7f7f4cf832b7f42d1dc639b'},\n",
       "  'transactions': [{'txid': '836caf03cbc317208b14b9d84baa4619a859de840dcff57ee2bbe274272a332a',\n",
       "    'timestamp': 1714409526.493794,\n",
       "    'data': {'student_name': 'Nguyễn Hoàng Nam',\n",
       "     'student_code': '19050032',\n",
       "     'teacher_name': 'Huỳnh Quang Đức',\n",
       "     'course_name': 'Digital Marketing',\n",
       "     'mark': '5.00'}}]},\n",
       " {'header': {'previous_block_hash': 'a1c1096c962ebda9988c16fd9dcf119c76973fb08049b34bab69f716f395e206',\n",
       "   'merkle_root': 'dc9907e6090acf62299651da20c81c4a065822c3d7c80c641f5193254ff06f6a',\n",
       "   'timestamp': 1714409585.387052,\n",
       "   'noonce': 13,\n",
       "   'hash': '713031c6dd54ef5bc9471f4207878f1fdd69a32fea2327a3dab6f55a38e21293'},\n",
       "  'transactions': [{'txid': '19b479508c10d447f3a62f4494fb59c63de84ec0e3ac6f41cd34f26068518e88',\n",
       "    'timestamp': 1714409526.493589,\n",
       "    'data': {'student_name': 'Trịnh Đình Anh',\n",
       "     'student_code': '19050011',\n",
       "     'teacher_name': 'Huỳnh Quang Đức',\n",
       "     'course_name': 'Digital Marketing',\n",
       "     'mark': '10.00'}}]},\n",
       " {'header': {'previous_block_hash': '0000000000000000000000000000000000000000000000000000000000000000',\n",
       "   'merkle_root': 'b0fc67989fccb5f52be2c84a54315e7da39d0c8b00d4f69a153aa71fc4b6aa6e',\n",
       "   'timestamp': 1714409584.441593,\n",
       "   'noonce': 12,\n",
       "   'hash': 'a1c1096c962ebda9988c16fd9dcf119c76973fb08049b34bab69f716f395e206'},\n",
       "  'transactions': [{'txid': '1bc58c69e52a4d86cbd035f1313af0327336e4a1d1b7b1694fa64453881d2f09',\n",
       "    'timestamp': 1714409526.490535,\n",
       "    'data': {'Genesis': 'I wanna chain our education system - PVM'}}]}]"
      ]
     },
     "execution_count": 23,
     "metadata": {},
     "output_type": "execute_result"
    }
   ],
   "source": [
    "block_3.to_dict"
   ]
  },
  {
   "cell_type": "code",
   "execution_count": 24,
   "metadata": {},
   "outputs": [
    {
     "data": {
      "text/plain": [
       "3"
      ]
     },
     "execution_count": 24,
     "metadata": {},
     "output_type": "execute_result"
    }
   ],
   "source": [
    "len(block_3)"
   ]
  },
  {
   "cell_type": "code",
   "execution_count": 15,
   "metadata": {},
   "outputs": [],
   "source": [
    "from core.io_blockchain import BlockchainMemory"
   ]
  },
  {
   "cell_type": "code",
   "execution_count": 16,
   "metadata": {},
   "outputs": [],
   "source": [
    "bmem = BlockchainMemory()"
   ]
  },
  {
   "cell_type": "code",
   "execution_count": 17,
   "metadata": {},
   "outputs": [],
   "source": [
    "bmem.store_blockchain_in_memory(block_3)"
   ]
  },
  {
   "cell_type": "code",
   "execution_count": 15,
   "metadata": {},
   "outputs": [],
   "source": [
    "a = bmem.get_blockchain_from_memory()"
   ]
  },
  {
   "cell_type": "code",
   "execution_count": 16,
   "metadata": {},
   "outputs": [
    {
     "data": {
      "text/plain": [
       "[{'header': {'previous_block_hash': '5bec322952e83c70cde97c7860d2398fbc93b875d45e09a0608df5ccbfbed236',\n",
       "   'merkle_root': 'ac3d95f60c440dbd7da806dc86dce231b6cfa140bbe6dd7cf2a6af160a3ff8c4',\n",
       "   'timestamp': 1713026866.101595,\n",
       "   'noonce': 14},\n",
       "  'transactions': [{'txid': '5539cd78be515437f5e3b4ed9336fc4c855492d802aa99c3a816a2f18fc03bb8',\n",
       "    'timestamp': 1713026861.109816,\n",
       "    'data': {'student_name': 'Nguyễn Hoàng Nam',\n",
       "     'student_code': '19050032',\n",
       "     'teacher_name': 'Huỳnh Quang Đức',\n",
       "     'course_name': 'Digital Marketing',\n",
       "     'mark': '5.00'}}]},\n",
       " {'header': {'previous_block_hash': '5c9b9923577f0325f47e0b9087de84962bcb75aed3029f50212240ba4f15fa36',\n",
       "   'merkle_root': '5b494f6e0377f34d7e1ed4d6dd0403e4cc4db8b13623a4eb570104aa18d3f836',\n",
       "   'timestamp': 1713026864.961276,\n",
       "   'noonce': 13},\n",
       "  'transactions': [{'txid': '8965972cb0b8bdad5d464be1e2da0bcd0fd6444266c7a24d56081bddf6f2cd7a',\n",
       "    'timestamp': 1713026861.109586,\n",
       "    'data': {'student_name': 'Trịnh Đình Anh',\n",
       "     'student_code': '19050011',\n",
       "     'teacher_name': 'Huỳnh Quang Đức',\n",
       "     'course_name': 'Digital Marketing',\n",
       "     'mark': '10.00'}}]},\n",
       " {'header': {'previous_block_hash': '',\n",
       "   'merkle_root': '687ec45d5e9b5f6a273943dde727bf4638111382e23843874ee333e6a0307c34',\n",
       "   'timestamp': 1713026863.691709,\n",
       "   'noonce': 12},\n",
       "  'transactions': [{'txid': '5c5c87d3eadb061797d93d4e1df06ffe260d0113b6570abbf483a1ca2c1b7793',\n",
       "    'timestamp': 1713026861.109234,\n",
       "    'data': {'student_name': 'Phạm Văn Minh',\n",
       "     'student_code': '19050029',\n",
       "     'teacher_name': 'Huỳnh Quang Đức',\n",
       "     'course_name': 'Digital Marketing',\n",
       "     'mark': '8.00'}}]}]"
      ]
     },
     "execution_count": 16,
     "metadata": {},
     "output_type": "execute_result"
    }
   ],
   "source": [
    "a.to_dict"
   ]
  },
  {
   "cell_type": "code",
   "execution_count": 8,
   "metadata": {},
   "outputs": [],
   "source": [
    "from core.io_mem_pool import MemPool"
   ]
  },
  {
   "cell_type": "code",
   "execution_count": 4,
   "metadata": {},
   "outputs": [],
   "source": [
    "Tes_data_1 = {\n",
    "    \"student_name\": \"Phạm Văn Minh\",\n",
    "    \"student_code\": \"19050029\",\n",
    "    \"teacher_name\": \"Huỳnh Quang Đức\",\n",
    "    \"course_name\": \"Digital Marketing\",\n",
    "    \"mark\": \"8.00\",\n",
    "}"
   ]
  },
  {
   "cell_type": "code",
   "execution_count": 15,
   "metadata": {},
   "outputs": [],
   "source": [
    "T_data_2 = {\n",
    "    \"student_name\": \"Trịnh Đình Anh\",\n",
    "    \"student_code\": \"19050011\",\n",
    "    \"teacher_name\": \"Huỳnh Quang Đức\",\n",
    "    \"course_name\": \"Digital Marketing\",\n",
    "    \"mark\": \"10.00\",\n",
    "}\n",
    "tx2 = Transaction(T_data_2)"
   ]
  },
  {
   "cell_type": "code",
   "execution_count": 5,
   "metadata": {},
   "outputs": [],
   "source": [
    "tx = Transaction(Tes_data_1)"
   ]
  },
  {
   "cell_type": "code",
   "execution_count": 6,
   "metadata": {},
   "outputs": [
    {
     "data": {
      "text/plain": [
       "{'txid': '72d8707ba1265cf8b6b990648345e694556f4bdafed7054bfd5dbc4c93cf9cd0',\n",
       " 'timestamp': 1713026954.374772,\n",
       " 'data': {'student_name': 'Phạm Văn Minh',\n",
       "  'student_code': '19050029',\n",
       "  'teacher_name': 'Huỳnh Quang Đức',\n",
       "  'course_name': 'Digital Marketing',\n",
       "  'mark': '8.00'}}"
      ]
     },
     "execution_count": 6,
     "metadata": {},
     "output_type": "execute_result"
    }
   ],
   "source": [
    "tx.transaction_data"
   ]
  },
  {
   "cell_type": "code",
   "execution_count": 9,
   "metadata": {},
   "outputs": [],
   "source": [
    "mp = MemPool()"
   ]
  },
  {
   "cell_type": "code",
   "execution_count": 10,
   "metadata": {},
   "outputs": [
    {
     "data": {
      "text/plain": [
       "'memory/mempool.json'"
      ]
     },
     "execution_count": 10,
     "metadata": {},
     "output_type": "execute_result"
    }
   ],
   "source": [
    "mp.file_name"
   ]
  },
  {
   "cell_type": "code",
   "execution_count": 20,
   "metadata": {},
   "outputs": [],
   "source": [
    "mp.store_transactions_in_memory([tx.transaction_data, tx2.transaction_data])"
   ]
  },
  {
   "cell_type": "code",
   "execution_count": 19,
   "metadata": {},
   "outputs": [],
   "source": [
    "mp.store_transactions_in_memory([tx2.transaction_data])"
   ]
  },
  {
   "cell_type": "code",
   "execution_count": 24,
   "metadata": {},
   "outputs": [],
   "source": [
    "ml = mp.get_transactions_from_memory()"
   ]
  },
  {
   "cell_type": "code",
   "execution_count": 25,
   "metadata": {},
   "outputs": [],
   "source": [
    "ml.append(tx2.transaction_data)"
   ]
  },
  {
   "cell_type": "code",
   "execution_count": 26,
   "metadata": {},
   "outputs": [],
   "source": [
    "mp.store_transactions_in_memory(ml)"
   ]
  },
  {
   "cell_type": "code",
   "execution_count": 1,
   "metadata": {},
   "outputs": [],
   "source": [
    "from core.io_known_nodes import KnownNodesMemory"
   ]
  },
  {
   "cell_type": "code",
   "execution_count": 2,
   "metadata": {},
   "outputs": [],
   "source": [
    "knm = KnownNodesMemory()"
   ]
  },
  {
   "cell_type": "code",
   "execution_count": 3,
   "metadata": {},
   "outputs": [
    {
     "data": {
      "text/plain": [
       "[<core.node.Node at 0x105bd8bf0>, <core.node.Node at 0x105bda5d0>]"
      ]
     },
     "execution_count": 3,
     "metadata": {},
     "output_type": "execute_result"
    }
   ],
   "source": [
    "knm.known_nodes"
   ]
  }
 ],
 "metadata": {
  "kernelspec": {
   "display_name": "blockchain-env",
   "language": "python",
   "name": "python3"
  },
  "language_info": {
   "codemirror_mode": {
    "name": "ipython",
    "version": 3
   },
   "file_extension": ".py",
   "mimetype": "text/x-python",
   "name": "python",
   "nbconvert_exporter": "python",
   "pygments_lexer": "ipython3",
   "version": "3.12.2"
  }
 },
 "nbformat": 4,
 "nbformat_minor": 2
}
