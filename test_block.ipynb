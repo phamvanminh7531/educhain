{
 "cells": [
  {
   "cell_type": "code",
   "execution_count": 4,
   "metadata": {},
   "outputs": [],
   "source": [
    "from core.block import Block, BlockHeader\n",
    "from core.transaction import Transaction\n",
    "from core.merkle_tree import get_merkle_root\n",
    "from datetime import datetime"
   ]
  },
  {
   "cell_type": "code",
   "execution_count": 5,
   "metadata": {},
   "outputs": [],
   "source": [
    "T_data_1 = {\n",
    "    \"student_name\": \"Trịnh Đình Anh\",\n",
    "    \"student_code\": \"19050011\",\n",
    "    \"teacher_name\": \"Huỳnh Quang Đức\",\n",
    "    \"course_name\": \"Digital Marketing\",\n",
    "    \"mark\": \"10.00\",\n",
    "}\n",
    "\n",
    "T_data_2 = {\n",
    "    \"student_name\": \"Nguyễn Hoàng Nam\",\n",
    "    \"student_code\": \"19050032\",\n",
    "    \"teacher_name\": \"Huỳnh Quang Đức\",\n",
    "    \"course_name\": \"Digital Marketing\",\n",
    "    \"mark\": \"5.00\",\n",
    "}\n",
    "\n",
    "T_data_3 = {\n",
    "    \"student_name\": \"Nguyễn Văn Khánh\",\n",
    "    \"student_code\": \"19050091\",\n",
    "    \"teacher_name\": \"Huỳnh Quang Đức\",\n",
    "    \"course_name\": \"Digital Marketing\",\n",
    "    \"mark\": \"6.70\",\n",
    "}\n",
    "\n",
    "T_data_4 = {\n",
    "    \"student_name\": \"Trần Thu Hà\",\n",
    "    \"student_code\": \"19050032\",\n",
    "    \"teacher_name\": \"Huỳnh Quang Đức\",\n",
    "    \"course_name\": \"Digital Marketing\",\n",
    "    \"mark\": \"9.00\",\n",
    "}\n",
    "\n",
    "T_data_5 = {\n",
    "    \"student_name\": \"Huỳnh Đặng Hoàng Triết\",\n",
    "    \"student_code\": \"19050045\",\n",
    "    \"teacher_name\": \"Huỳnh Quang Đức\",\n",
    "    \"course_name\": \"Digital Marketing\",\n",
    "    \"mark\": \"5.00\",\n",
    "}"
   ]
  },
  {
   "cell_type": "code",
   "execution_count": 6,
   "metadata": {},
   "outputs": [],
   "source": [
    "tx1 = Transaction(T_data_1)\n",
    "tx2 = Transaction(T_data_2)\n",
    "tx3 = Transaction(T_data_3)\n",
    "tx4 = Transaction(T_data_4)\n",
    "tx5 = Transaction(T_data_5)"
   ]
  },
  {
   "cell_type": "code",
   "execution_count": 32,
   "metadata": {},
   "outputs": [
    {
     "data": {
      "text/plain": [
       "{'txid': '442fbf31afe3d9406c3bde23a49c17c46e059f77ce2bf029f93473237825fb7b',\n",
       " 'timestamp': 1716132578.30968,\n",
       " 'data': {'student_name': 'Trần Thu Hà',\n",
       "  'student_code': '19050032',\n",
       "  'teacher_name': 'Huỳnh Quang Đức',\n",
       "  'course_name': 'Digital Marketing',\n",
       "  'mark': '9.00'}}"
      ]
     },
     "execution_count": 32,
     "metadata": {},
     "output_type": "execute_result"
    }
   ],
   "source": [
    "tx4.transaction_data"
   ]
  },
  {
   "cell_type": "code",
   "execution_count": 8,
   "metadata": {},
   "outputs": [],
   "source": [
    "block_header_1 = BlockHeader(\"0000000000000000000000000000000000000000000000000000000000000000\", get_merkle_root([tx1.transaction_data]), datetime.now().timestamp(), 12, 1, 1)"
   ]
  },
  {
   "cell_type": "code",
   "execution_count": 18,
   "metadata": {},
   "outputs": [],
   "source": [
    "block_header_2 = BlockHeader(block_header_1.hash, get_merkle_root([tx2.transaction_data]), datetime.now().timestamp(), 13)"
   ]
  },
  {
   "cell_type": "code",
   "execution_count": 19,
   "metadata": {},
   "outputs": [],
   "source": [
    "block_header_3 = BlockHeader(block_header_2.hash, get_merkle_root([tx3.transaction_data]), datetime.now().timestamp(), 14)"
   ]
  },
  {
   "cell_type": "code",
   "execution_count": 9,
   "metadata": {},
   "outputs": [],
   "source": [
    "block_1 = Block([tx1.transaction_data], block_header_1)"
   ]
  },
  {
   "cell_type": "code",
   "execution_count": 21,
   "metadata": {},
   "outputs": [],
   "source": [
    "block_2 = Block([tx2.transaction_data], block_header_2, block_1)"
   ]
  },
  {
   "cell_type": "code",
   "execution_count": 22,
   "metadata": {},
   "outputs": [],
   "source": [
    "block_3 = Block([tx3.transaction_data], block_header_3, block_2)"
   ]
  },
  {
   "cell_type": "code",
   "execution_count": 23,
   "metadata": {},
   "outputs": [
    {
     "data": {
      "text/plain": [
       "[{'header': {'previous_block_hash': '713031c6dd54ef5bc9471f4207878f1fdd69a32fea2327a3dab6f55a38e21293',\n",
       "   'merkle_root': '63e5623e6c754585834e55611c16103771457e4c198fff578bf9cd22f76e8098',\n",
       "   'timestamp': 1714409586.33072,\n",
       "   'noonce': 14,\n",
       "   'hash': 'd20f410b1a02a545998a3c447da5d1d539c80e63c7f7f4cf832b7f42d1dc639b'},\n",
       "  'transactions': [{'txid': '836caf03cbc317208b14b9d84baa4619a859de840dcff57ee2bbe274272a332a',\n",
       "    'timestamp': 1714409526.493794,\n",
       "    'data': {'student_name': 'Nguyễn Hoàng Nam',\n",
       "     'student_code': '19050032',\n",
       "     'teacher_name': 'Huỳnh Quang Đức',\n",
       "     'course_name': 'Digital Marketing',\n",
       "     'mark': '5.00'}}]},\n",
       " {'header': {'previous_block_hash': 'a1c1096c962ebda9988c16fd9dcf119c76973fb08049b34bab69f716f395e206',\n",
       "   'merkle_root': 'dc9907e6090acf62299651da20c81c4a065822c3d7c80c641f5193254ff06f6a',\n",
       "   'timestamp': 1714409585.387052,\n",
       "   'noonce': 13,\n",
       "   'hash': '713031c6dd54ef5bc9471f4207878f1fdd69a32fea2327a3dab6f55a38e21293'},\n",
       "  'transactions': [{'txid': '19b479508c10d447f3a62f4494fb59c63de84ec0e3ac6f41cd34f26068518e88',\n",
       "    'timestamp': 1714409526.493589,\n",
       "    'data': {'student_name': 'Trịnh Đình Anh',\n",
       "     'student_code': '19050011',\n",
       "     'teacher_name': 'Huỳnh Quang Đức',\n",
       "     'course_name': 'Digital Marketing',\n",
       "     'mark': '10.00'}}]},\n",
       " {'header': {'previous_block_hash': '0000000000000000000000000000000000000000000000000000000000000000',\n",
       "   'merkle_root': 'b0fc67989fccb5f52be2c84a54315e7da39d0c8b00d4f69a153aa71fc4b6aa6e',\n",
       "   'timestamp': 1714409584.441593,\n",
       "   'noonce': 12,\n",
       "   'hash': 'a1c1096c962ebda9988c16fd9dcf119c76973fb08049b34bab69f716f395e206'},\n",
       "  'transactions': [{'txid': '1bc58c69e52a4d86cbd035f1313af0327336e4a1d1b7b1694fa64453881d2f09',\n",
       "    'timestamp': 1714409526.490535,\n",
       "    'data': {'Genesis': 'I wanna chain our education system - PVM'}}]}]"
      ]
     },
     "execution_count": 23,
     "metadata": {},
     "output_type": "execute_result"
    }
   ],
   "source": [
    "block_3.to_dict"
   ]
  },
  {
   "cell_type": "code",
   "execution_count": 24,
   "metadata": {},
   "outputs": [
    {
     "data": {
      "text/plain": [
       "3"
      ]
     },
     "execution_count": 24,
     "metadata": {},
     "output_type": "execute_result"
    }
   ],
   "source": [
    "len(block_3)"
   ]
  },
  {
   "cell_type": "code",
   "execution_count": 10,
   "metadata": {},
   "outputs": [],
   "source": [
    "from core.io_blockchain import BlockchainMemory"
   ]
  },
  {
   "cell_type": "code",
   "execution_count": 11,
   "metadata": {},
   "outputs": [],
   "source": [
    "bmem = BlockchainMemory()"
   ]
  },
  {
   "cell_type": "code",
   "execution_count": 12,
   "metadata": {},
   "outputs": [],
   "source": [
    "bmem.store_blockchain_in_memory(block_1)"
   ]
  },
  {
   "cell_type": "code",
   "execution_count": 15,
   "metadata": {},
   "outputs": [],
   "source": [
    "a = bmem.get_blockchain_from_memory()"
   ]
  },
  {
   "cell_type": "code",
   "execution_count": 16,
   "metadata": {},
   "outputs": [
    {
     "data": {
      "text/plain": [
       "[{'header': {'previous_block_hash': '5bec322952e83c70cde97c7860d2398fbc93b875d45e09a0608df5ccbfbed236',\n",
       "   'merkle_root': 'ac3d95f60c440dbd7da806dc86dce231b6cfa140bbe6dd7cf2a6af160a3ff8c4',\n",
       "   'timestamp': 1713026866.101595,\n",
       "   'noonce': 14},\n",
       "  'transactions': [{'txid': '5539cd78be515437f5e3b4ed9336fc4c855492d802aa99c3a816a2f18fc03bb8',\n",
       "    'timestamp': 1713026861.109816,\n",
       "    'data': {'student_name': 'Nguyễn Hoàng Nam',\n",
       "     'student_code': '19050032',\n",
       "     'teacher_name': 'Huỳnh Quang Đức',\n",
       "     'course_name': 'Digital Marketing',\n",
       "     'mark': '5.00'}}]},\n",
       " {'header': {'previous_block_hash': '5c9b9923577f0325f47e0b9087de84962bcb75aed3029f50212240ba4f15fa36',\n",
       "   'merkle_root': '5b494f6e0377f34d7e1ed4d6dd0403e4cc4db8b13623a4eb570104aa18d3f836',\n",
       "   'timestamp': 1713026864.961276,\n",
       "   'noonce': 13},\n",
       "  'transactions': [{'txid': '8965972cb0b8bdad5d464be1e2da0bcd0fd6444266c7a24d56081bddf6f2cd7a',\n",
       "    'timestamp': 1713026861.109586,\n",
       "    'data': {'student_name': 'Trịnh Đình Anh',\n",
       "     'student_code': '19050011',\n",
       "     'teacher_name': 'Huỳnh Quang Đức',\n",
       "     'course_name': 'Digital Marketing',\n",
       "     'mark': '10.00'}}]},\n",
       " {'header': {'previous_block_hash': '',\n",
       "   'merkle_root': '687ec45d5e9b5f6a273943dde727bf4638111382e23843874ee333e6a0307c34',\n",
       "   'timestamp': 1713026863.691709,\n",
       "   'noonce': 12},\n",
       "  'transactions': [{'txid': '5c5c87d3eadb061797d93d4e1df06ffe260d0113b6570abbf483a1ca2c1b7793',\n",
       "    'timestamp': 1713026861.109234,\n",
       "    'data': {'student_name': 'Phạm Văn Minh',\n",
       "     'student_code': '19050029',\n",
       "     'teacher_name': 'Huỳnh Quang Đức',\n",
       "     'course_name': 'Digital Marketing',\n",
       "     'mark': '8.00'}}]}]"
      ]
     },
     "execution_count": 16,
     "metadata": {},
     "output_type": "execute_result"
    }
   ],
   "source": [
    "a.to_dict"
   ]
  },
  {
   "cell_type": "code",
   "execution_count": 8,
   "metadata": {},
   "outputs": [],
   "source": [
    "from core.io_mem_pool import MemPool"
   ]
  },
  {
   "cell_type": "code",
   "execution_count": 4,
   "metadata": {},
   "outputs": [],
   "source": [
    "Tes_data_1 = {\n",
    "    \"student_name\": \"Phạm Văn Minh\",\n",
    "    \"student_code\": \"19050029\",\n",
    "    \"teacher_name\": \"Huỳnh Quang Đức\",\n",
    "    \"course_name\": \"Digital Marketing\",\n",
    "    \"mark\": \"8.00\",\n",
    "}"
   ]
  },
  {
   "cell_type": "code",
   "execution_count": 15,
   "metadata": {},
   "outputs": [],
   "source": [
    "T_data_2 = {\n",
    "    \"student_name\": \"Trịnh Đình Anh\",\n",
    "    \"student_code\": \"19050011\",\n",
    "    \"teacher_name\": \"Huỳnh Quang Đức\",\n",
    "    \"course_name\": \"Digital Marketing\",\n",
    "    \"mark\": \"10.00\",\n",
    "}\n",
    "tx2 = Transaction(T_data_2)"
   ]
  },
  {
   "cell_type": "code",
   "execution_count": 5,
   "metadata": {},
   "outputs": [],
   "source": [
    "tx = Transaction(Tes_data_1)"
   ]
  },
  {
   "cell_type": "code",
   "execution_count": 6,
   "metadata": {},
   "outputs": [
    {
     "data": {
      "text/plain": [
       "{'txid': '72d8707ba1265cf8b6b990648345e694556f4bdafed7054bfd5dbc4c93cf9cd0',\n",
       " 'timestamp': 1713026954.374772,\n",
       " 'data': {'student_name': 'Phạm Văn Minh',\n",
       "  'student_code': '19050029',\n",
       "  'teacher_name': 'Huỳnh Quang Đức',\n",
       "  'course_name': 'Digital Marketing',\n",
       "  'mark': '8.00'}}"
      ]
     },
     "execution_count": 6,
     "metadata": {},
     "output_type": "execute_result"
    }
   ],
   "source": [
    "tx.transaction_data"
   ]
  },
  {
   "cell_type": "code",
   "execution_count": 9,
   "metadata": {},
   "outputs": [],
   "source": [
    "mp = MemPool()"
   ]
  },
  {
   "cell_type": "code",
   "execution_count": 10,
   "metadata": {},
   "outputs": [
    {
     "data": {
      "text/plain": [
       "'memory/mempool.json'"
      ]
     },
     "execution_count": 10,
     "metadata": {},
     "output_type": "execute_result"
    }
   ],
   "source": [
    "mp.file_name"
   ]
  },
  {
   "cell_type": "code",
   "execution_count": 20,
   "metadata": {},
   "outputs": [],
   "source": [
    "mp.store_transactions_in_memory([tx.transaction_data, tx2.transaction_data])"
   ]
  },
  {
   "cell_type": "code",
   "execution_count": 19,
   "metadata": {},
   "outputs": [],
   "source": [
    "mp.store_transactions_in_memory([tx2.transaction_data])"
   ]
  },
  {
   "cell_type": "code",
   "execution_count": 24,
   "metadata": {},
   "outputs": [],
   "source": [
    "ml = mp.get_transactions_from_memory()"
   ]
  },
  {
   "cell_type": "code",
   "execution_count": 25,
   "metadata": {},
   "outputs": [],
   "source": [
    "ml.append(tx2.transaction_data)"
   ]
  },
  {
   "cell_type": "code",
   "execution_count": 26,
   "metadata": {},
   "outputs": [],
   "source": [
    "mp.store_transactions_in_memory(ml)"
   ]
  },
  {
   "cell_type": "code",
   "execution_count": 1,
   "metadata": {},
   "outputs": [],
   "source": [
    "from core.io_known_nodes import KnownNodesMemory"
   ]
  },
  {
   "cell_type": "code",
   "execution_count": 2,
   "metadata": {},
   "outputs": [],
   "source": [
    "knm = KnownNodesMemory()"
   ]
  },
  {
   "cell_type": "code",
   "execution_count": 3,
   "metadata": {},
   "outputs": [
    {
     "data": {
      "text/plain": [
       "[<core.node.Node at 0x105bd8bf0>, <core.node.Node at 0x105bda5d0>]"
      ]
     },
     "execution_count": 3,
     "metadata": {},
     "output_type": "execute_result"
    }
   ],
   "source": [
    "knm.known_nodes"
   ]
  },
  {
   "cell_type": "markdown",
   "metadata": {},
   "source": [
    "# merkle tree"
   ]
  },
  {
   "cell_type": "code",
   "execution_count": 9,
   "metadata": {},
   "outputs": [],
   "source": [
    "from core.merkle_tree import MerkleTree, get_transaction_proof, get_merkle_root, verifyMerkleProof"
   ]
  },
  {
   "cell_type": "code",
   "execution_count": 2,
   "metadata": {},
   "outputs": [],
   "source": [
    "from core.io_blockchain import BlockchainMemory"
   ]
  },
  {
   "cell_type": "code",
   "execution_count": 3,
   "metadata": {},
   "outputs": [],
   "source": [
    "blockchain = BlockchainMemory().get_blockchain_from_memory()"
   ]
  },
  {
   "cell_type": "code",
   "execution_count": 4,
   "metadata": {},
   "outputs": [
    {
     "data": {
      "text/plain": [
       "[{'txid': '8112a2a9c83d6252d8a2141a7945d10e3931bb63a541a98757e3bec70c0200b1',\n",
       "  'timestamp': 1717964186.65159,\n",
       "  'data': {'cert_name': 'Test Cert 3',\n",
       "   'student_code': '19050026',\n",
       "   'student_name': 'Phạm Văn Minh',\n",
       "   'teacher_code': '19050000',\n",
       "   'teacher_name': 'Huỳnh Quang Đức',\n",
       "   'type': 'mark',\n",
       "   'mark': '10',\n",
       "   'signature': '2a104b86f3a78f854949ef9b589076b8ac2065aed0b5fd082484c794f6b172e5b13164e05d73b69747db7f2084362421c4d850738005a913ded690d4c78725462aa75f8cc53ebf9c3d517bfb94be3468a846aa6777896c025fd5fe1878c21df2fac5911f5ed9274a0f81a9822feb83882d265a181a56a9b5b59cc0163356abe5',\n",
       "   'public_key': '30819f300d06092a864886f70d010101050003818d0030818902818100eaf0ae93d8339992b428b4d0f7612291e388ae6e843c3756e43b91024b427b6d9cf071d027aebee4d291054ab5a5516a0a8c28e0947546122299d3438263b0b3f55c5cfc34b078bc03d0be4ad5851ce018a92ccbc261686ad0190cd062b86b54ef325638d90e0880999f241014233e49add42b9bb20c71e24cffd5a26dda647f0203010001'}},\n",
       " {'txid': '7ded5a02f2572323756288b96e5d110f3707e5b8d6a85318864ab431ee88d351',\n",
       "  'timestamp': 1717964186.718186,\n",
       "  'data': {'cert_name': 'Test Cert 3',\n",
       "   'student_code': '19050011',\n",
       "   'student_name': 'Trịnh Đình Anh',\n",
       "   'teacher_code': '19050000',\n",
       "   'teacher_name': 'Huỳnh Quang Đức',\n",
       "   'type': 'mark',\n",
       "   'mark': '5',\n",
       "   'signature': '0d9d106a1a38f9cb1314decc2671a6a90c864d305ca8f1ad80e1364caaa527baf99c2b57ad9cff221c4ad307885d1c47c83e0a94e26ddd4bc2e570c1a5f46a2af8601bd50415d1d3f64fc242e30d1180c2912ee47a7548a6dc21b9203812063dc97057a42e0d1b15d399631e300da20f4d55a7c3622088bbe5b587bd42f4a620',\n",
       "   'public_key': '30819f300d06092a864886f70d010101050003818d0030818902818100eaf0ae93d8339992b428b4d0f7612291e388ae6e843c3756e43b91024b427b6d9cf071d027aebee4d291054ab5a5516a0a8c28e0947546122299d3438263b0b3f55c5cfc34b078bc03d0be4ad5851ce018a92ccbc261686ad0190cd062b86b54ef325638d90e0880999f241014233e49add42b9bb20c71e24cffd5a26dda647f0203010001'}}]"
      ]
     },
     "execution_count": 4,
     "metadata": {},
     "output_type": "execute_result"
    }
   ],
   "source": [
    "blockchain.transactions"
   ]
  },
  {
   "cell_type": "code",
   "execution_count": 5,
   "metadata": {},
   "outputs": [],
   "source": [
    "root = get_merkle_root(blockchain.transactions)"
   ]
  },
  {
   "cell_type": "code",
   "execution_count": 6,
   "metadata": {},
   "outputs": [
    {
     "data": {
      "text/plain": [
       "'0c941fe840f6cdd5322df6b3ce6b819fe9c8338337fcc65c75ab4878b91bd41b'"
      ]
     },
     "execution_count": 6,
     "metadata": {},
     "output_type": "execute_result"
    }
   ],
   "source": [
    "root"
   ]
  },
  {
   "cell_type": "code",
   "execution_count": 7,
   "metadata": {},
   "outputs": [],
   "source": [
    "proof = get_transaction_proof(blockchain.transactions, \"8112a2a9c83d6252d8a2141a7945d10e3931bb63a541a98757e3bec70c0200b1\")"
   ]
  },
  {
   "cell_type": "code",
   "execution_count": 8,
   "metadata": {},
   "outputs": [
    {
     "data": {
      "text/plain": [
       "[('747e99eadc1cb9b4e5dc6e6f14376bf662722f3dc87ed41ad64839441594c229', False),\n",
       " '0c941fe840f6cdd5322df6b3ce6b819fe9c8338337fcc65c75ab4878b91bd41b']"
      ]
     },
     "execution_count": 8,
     "metadata": {},
     "output_type": "execute_result"
    }
   ],
   "source": [
    "proof"
   ]
  },
  {
   "cell_type": "code",
   "execution_count": 10,
   "metadata": {},
   "outputs": [
    {
     "data": {
      "text/plain": [
       "True"
      ]
     },
     "execution_count": 10,
     "metadata": {},
     "output_type": "execute_result"
    }
   ],
   "source": [
    "verifyMerkleProof(\"8112a2a9c83d6252d8a2141a7945d10e3931bb63a541a98757e3bec70c0200b1\", proof, root)"
   ]
  }
 ],
 "metadata": {
  "kernelspec": {
   "display_name": "blockchain-env",
   "language": "python",
   "name": "python3"
  },
  "language_info": {
   "codemirror_mode": {
    "name": "ipython",
    "version": 3
   },
   "file_extension": ".py",
   "mimetype": "text/x-python",
   "name": "python",
   "nbconvert_exporter": "python",
   "pygments_lexer": "ipython3",
   "version": "3.12.2"
  }
 },
 "nbformat": 4,
 "nbformat_minor": 2
}
