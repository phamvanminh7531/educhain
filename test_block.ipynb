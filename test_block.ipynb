{
 "cells": [
  {
   "cell_type": "code",
   "execution_count": 1,
   "metadata": {},
   "outputs": [],
   "source": [
    "from core.block import Block, BlockHeader\n",
    "from core.transaction import Transaction\n",
    "from core.merkle_tree import get_merkle_root\n",
    "from datetime import datetime"
   ]
  },
  {
   "cell_type": "code",
   "execution_count": 2,
   "metadata": {},
   "outputs": [],
   "source": [
    "T_data_1 = {\n",
    "    \"student_name\": \"Phạm Văn Minh\",\n",
    "    \"student_code\": \"19050029\",\n",
    "    \"teacher_name\": \"Huỳnh Quang Đức\",\n",
    "    \"course_name\": \"Digital Marketing\",\n",
    "    \"mark\": \"8.00\",\n",
    "}\n",
    "T_data_2 = {\n",
    "    \"student_name\": \"Trịnh Đình Anh\",\n",
    "    \"student_code\": \"19050011\",\n",
    "    \"teacher_name\": \"Huỳnh Quang Đức\",\n",
    "    \"course_name\": \"Digital Marketing\",\n",
    "    \"mark\": \"10.00\",\n",
    "}\n",
    "\n",
    "T_data_3 = {\n",
    "    \"student_name\": \"Nguyễn Hoàng Nam\",\n",
    "    \"student_code\": \"19050032\",\n",
    "    \"teacher_name\": \"Huỳnh Quang Đức\",\n",
    "    \"course_name\": \"Digital Marketing\",\n",
    "    \"mark\": \"5.00\",\n",
    "}\n",
    "\n",
    "t_data_4 = {\n",
    "    \"data\": \"Test broadcast\"\n",
    "}"
   ]
  },
  {
   "cell_type": "code",
   "execution_count": 3,
   "metadata": {},
   "outputs": [],
   "source": [
    "tx1 = Transaction(T_data_1)\n",
    "tx2 = Transaction(T_data_2)\n",
    "tx3 = Transaction(T_data_3)"
   ]
  },
  {
   "cell_type": "code",
   "execution_count": 4,
   "metadata": {},
   "outputs": [
    {
     "data": {
      "text/plain": [
       "{'txid': 'b20f815e3411036f12041e18a67c17f33cf5539ba4228236003b8b3a6a71b616',\n",
       " 'timestamp': 1713084223.108483,\n",
       " 'data': {'student_name': 'Phạm Văn Minh',\n",
       "  'student_code': '19050029',\n",
       "  'teacher_name': 'Huỳnh Quang Đức',\n",
       "  'course_name': 'Digital Marketing',\n",
       "  'mark': '8.00'}}"
      ]
     },
     "execution_count": 4,
     "metadata": {},
     "output_type": "execute_result"
    }
   ],
   "source": [
    "tx1.transaction_data"
   ]
  },
  {
   "cell_type": "code",
   "execution_count": 7,
   "metadata": {},
   "outputs": [],
   "source": [
    "block_header_1 = BlockHeader(\"\", get_merkle_root([tx1.transaction_data]), datetime.now().timestamp(), 12)"
   ]
  },
  {
   "cell_type": "code",
   "execution_count": 8,
   "metadata": {},
   "outputs": [],
   "source": [
    "block_header_2 = BlockHeader(block_header_1.hash, get_merkle_root([tx2.transaction_data]), datetime.now().timestamp(), 13)"
   ]
  },
  {
   "cell_type": "code",
   "execution_count": 9,
   "metadata": {},
   "outputs": [],
   "source": [
    "block_header_3 = BlockHeader(block_header_2.hash, get_merkle_root([tx3.transaction_data]), datetime.now().timestamp(), 14)"
   ]
  },
  {
   "cell_type": "code",
   "execution_count": 10,
   "metadata": {},
   "outputs": [],
   "source": [
    "block_1 = Block([tx1.transaction_data], block_header_1)"
   ]
  },
  {
   "cell_type": "code",
   "execution_count": 11,
   "metadata": {},
   "outputs": [],
   "source": [
    "block_2 = Block([tx2.transaction_data], block_header_2, block_1)"
   ]
  },
  {
   "cell_type": "code",
   "execution_count": 12,
   "metadata": {},
   "outputs": [],
   "source": [
    "block_3 = Block([tx3.transaction_data], block_header_3, block_2)"
   ]
  },
  {
   "cell_type": "code",
   "execution_count": 13,
   "metadata": {},
   "outputs": [
    {
     "data": {
      "text/plain": [
       "[{'header': {'hash': '82263b126a78da764f4fe3930de7f61c92e8bd2d7b14e9aaddab89311463d449',\n",
       "   'previous_block_hash': '488b1b43695d21b7bf18b41d713278ee984535c7daaf958e448732ce0a6cc5ef',\n",
       "   'merkle_root': 'c24759a6e14fbfdac7797ad1febf44540ec7530a50e44876df53db32a6761493',\n",
       "   'timestamp': 1713034462.163139,\n",
       "   'noonce': 14},\n",
       "  'transactions': [{'txid': 'b4aae751fa39f948771a5ae33e1f67c43d0b5de8e393bbc91a2137edbf5f6ab9',\n",
       "    'timestamp': 1713034334.680092,\n",
       "    'data': {'student_name': 'Nguyễn Hoàng Nam',\n",
       "     'student_code': '19050032',\n",
       "     'teacher_name': 'Huỳnh Quang Đức',\n",
       "     'course_name': 'Digital Marketing',\n",
       "     'mark': '5.00'}}]},\n",
       " {'header': {'hash': '488b1b43695d21b7bf18b41d713278ee984535c7daaf958e448732ce0a6cc5ef',\n",
       "   'previous_block_hash': '4d4a648506f1270a65110fb1b2f7643b0d08ba6d1ce8a810835b130c16cc8792',\n",
       "   'merkle_root': 'b23f35885a404fb764212b5bdf9bc8640caeb4313524ee780e922ec72db7f607',\n",
       "   'timestamp': 1713034457.959664,\n",
       "   'noonce': 13},\n",
       "  'transactions': [{'txid': '7f4169561f10ed6c4dfbe0896fce56deeaab942b164e246d04b3c062e8a2eb19',\n",
       "    'timestamp': 1713034334.679601,\n",
       "    'data': {'student_name': 'Trịnh Đình Anh',\n",
       "     'student_code': '19050011',\n",
       "     'teacher_name': 'Huỳnh Quang Đức',\n",
       "     'course_name': 'Digital Marketing',\n",
       "     'mark': '10.00'}}]},\n",
       " {'header': {'hash': '4d4a648506f1270a65110fb1b2f7643b0d08ba6d1ce8a810835b130c16cc8792',\n",
       "   'previous_block_hash': '',\n",
       "   'merkle_root': '88e02c71f70635f3621470ede21feb5fb5d096d0cda76a296400612606b94318',\n",
       "   'timestamp': 1713034452.657785,\n",
       "   'noonce': 12},\n",
       "  'transactions': [{'txid': '64a438a66dba77e2bfe62ef38cf3896284c28bdcb698dcd0c3798cc809cee01a',\n",
       "    'timestamp': 1713034334.678872,\n",
       "    'data': {'student_name': 'Phạm Văn Minh',\n",
       "     'student_code': '19050029',\n",
       "     'teacher_name': 'Huỳnh Quang Đức',\n",
       "     'course_name': 'Digital Marketing',\n",
       "     'mark': '8.00'}}]}]"
      ]
     },
     "execution_count": 13,
     "metadata": {},
     "output_type": "execute_result"
    }
   ],
   "source": [
    "block_3.to_dict"
   ]
  },
  {
   "cell_type": "code",
   "execution_count": 15,
   "metadata": {},
   "outputs": [],
   "source": [
    "from core.io_blockchain import BlockchainMemory"
   ]
  },
  {
   "cell_type": "code",
   "execution_count": 16,
   "metadata": {},
   "outputs": [],
   "source": [
    "bmem = BlockchainMemory()"
   ]
  },
  {
   "cell_type": "code",
   "execution_count": 17,
   "metadata": {},
   "outputs": [],
   "source": [
    "bmem.store_blockchain_in_memory(block_3)"
   ]
  },
  {
   "cell_type": "code",
   "execution_count": 15,
   "metadata": {},
   "outputs": [],
   "source": [
    "a = bmem.get_blockchain_from_memory()"
   ]
  },
  {
   "cell_type": "code",
   "execution_count": 16,
   "metadata": {},
   "outputs": [
    {
     "data": {
      "text/plain": [
       "[{'header': {'previous_block_hash': '5bec322952e83c70cde97c7860d2398fbc93b875d45e09a0608df5ccbfbed236',\n",
       "   'merkle_root': 'ac3d95f60c440dbd7da806dc86dce231b6cfa140bbe6dd7cf2a6af160a3ff8c4',\n",
       "   'timestamp': 1713026866.101595,\n",
       "   'noonce': 14},\n",
       "  'transactions': [{'txid': '5539cd78be515437f5e3b4ed9336fc4c855492d802aa99c3a816a2f18fc03bb8',\n",
       "    'timestamp': 1713026861.109816,\n",
       "    'data': {'student_name': 'Nguyễn Hoàng Nam',\n",
       "     'student_code': '19050032',\n",
       "     'teacher_name': 'Huỳnh Quang Đức',\n",
       "     'course_name': 'Digital Marketing',\n",
       "     'mark': '5.00'}}]},\n",
       " {'header': {'previous_block_hash': '5c9b9923577f0325f47e0b9087de84962bcb75aed3029f50212240ba4f15fa36',\n",
       "   'merkle_root': '5b494f6e0377f34d7e1ed4d6dd0403e4cc4db8b13623a4eb570104aa18d3f836',\n",
       "   'timestamp': 1713026864.961276,\n",
       "   'noonce': 13},\n",
       "  'transactions': [{'txid': '8965972cb0b8bdad5d464be1e2da0bcd0fd6444266c7a24d56081bddf6f2cd7a',\n",
       "    'timestamp': 1713026861.109586,\n",
       "    'data': {'student_name': 'Trịnh Đình Anh',\n",
       "     'student_code': '19050011',\n",
       "     'teacher_name': 'Huỳnh Quang Đức',\n",
       "     'course_name': 'Digital Marketing',\n",
       "     'mark': '10.00'}}]},\n",
       " {'header': {'previous_block_hash': '',\n",
       "   'merkle_root': '687ec45d5e9b5f6a273943dde727bf4638111382e23843874ee333e6a0307c34',\n",
       "   'timestamp': 1713026863.691709,\n",
       "   'noonce': 12},\n",
       "  'transactions': [{'txid': '5c5c87d3eadb061797d93d4e1df06ffe260d0113b6570abbf483a1ca2c1b7793',\n",
       "    'timestamp': 1713026861.109234,\n",
       "    'data': {'student_name': 'Phạm Văn Minh',\n",
       "     'student_code': '19050029',\n",
       "     'teacher_name': 'Huỳnh Quang Đức',\n",
       "     'course_name': 'Digital Marketing',\n",
       "     'mark': '8.00'}}]}]"
      ]
     },
     "execution_count": 16,
     "metadata": {},
     "output_type": "execute_result"
    }
   ],
   "source": [
    "a.to_dict"
   ]
  },
  {
   "cell_type": "code",
   "execution_count": 8,
   "metadata": {},
   "outputs": [],
   "source": [
    "from core.io_mem_pool import MemPool"
   ]
  },
  {
   "cell_type": "code",
   "execution_count": 4,
   "metadata": {},
   "outputs": [],
   "source": [
    "Tes_data_1 = {\n",
    "    \"student_name\": \"Phạm Văn Minh\",\n",
    "    \"student_code\": \"19050029\",\n",
    "    \"teacher_name\": \"Huỳnh Quang Đức\",\n",
    "    \"course_name\": \"Digital Marketing\",\n",
    "    \"mark\": \"8.00\",\n",
    "}"
   ]
  },
  {
   "cell_type": "code",
   "execution_count": 15,
   "metadata": {},
   "outputs": [],
   "source": [
    "T_data_2 = {\n",
    "    \"student_name\": \"Trịnh Đình Anh\",\n",
    "    \"student_code\": \"19050011\",\n",
    "    \"teacher_name\": \"Huỳnh Quang Đức\",\n",
    "    \"course_name\": \"Digital Marketing\",\n",
    "    \"mark\": \"10.00\",\n",
    "}\n",
    "tx2 = Transaction(T_data_2)"
   ]
  },
  {
   "cell_type": "code",
   "execution_count": 5,
   "metadata": {},
   "outputs": [],
   "source": [
    "tx = Transaction(Tes_data_1)"
   ]
  },
  {
   "cell_type": "code",
   "execution_count": 6,
   "metadata": {},
   "outputs": [
    {
     "data": {
      "text/plain": [
       "{'txid': '72d8707ba1265cf8b6b990648345e694556f4bdafed7054bfd5dbc4c93cf9cd0',\n",
       " 'timestamp': 1713026954.374772,\n",
       " 'data': {'student_name': 'Phạm Văn Minh',\n",
       "  'student_code': '19050029',\n",
       "  'teacher_name': 'Huỳnh Quang Đức',\n",
       "  'course_name': 'Digital Marketing',\n",
       "  'mark': '8.00'}}"
      ]
     },
     "execution_count": 6,
     "metadata": {},
     "output_type": "execute_result"
    }
   ],
   "source": [
    "tx.transaction_data"
   ]
  },
  {
   "cell_type": "code",
   "execution_count": 9,
   "metadata": {},
   "outputs": [],
   "source": [
    "mp = MemPool()"
   ]
  },
  {
   "cell_type": "code",
   "execution_count": 10,
   "metadata": {},
   "outputs": [
    {
     "data": {
      "text/plain": [
       "'memory/mempool.json'"
      ]
     },
     "execution_count": 10,
     "metadata": {},
     "output_type": "execute_result"
    }
   ],
   "source": [
    "mp.file_name"
   ]
  },
  {
   "cell_type": "code",
   "execution_count": 20,
   "metadata": {},
   "outputs": [],
   "source": [
    "mp.store_transactions_in_memory([tx.transaction_data, tx2.transaction_data])"
   ]
  },
  {
   "cell_type": "code",
   "execution_count": 19,
   "metadata": {},
   "outputs": [],
   "source": [
    "mp.store_transactions_in_memory([tx2.transaction_data])"
   ]
  },
  {
   "cell_type": "code",
   "execution_count": 24,
   "metadata": {},
   "outputs": [],
   "source": [
    "ml = mp.get_transactions_from_memory()"
   ]
  },
  {
   "cell_type": "code",
   "execution_count": 25,
   "metadata": {},
   "outputs": [],
   "source": [
    "ml.append(tx2.transaction_data)"
   ]
  },
  {
   "cell_type": "code",
   "execution_count": 26,
   "metadata": {},
   "outputs": [],
   "source": [
    "mp.store_transactions_in_memory(ml)"
   ]
  }
 ],
 "metadata": {
  "kernelspec": {
   "display_name": "blockchain-env",
   "language": "python",
   "name": "python3"
  },
  "language_info": {
   "codemirror_mode": {
    "name": "ipython",
    "version": 3
   },
   "file_extension": ".py",
   "mimetype": "text/x-python",
   "name": "python",
   "nbconvert_exporter": "python",
   "pygments_lexer": "ipython3",
   "version": "3.12.2"
  }
 },
 "nbformat": 4,
 "nbformat_minor": 2
}
