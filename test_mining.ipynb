{
 "cells": [
  {
   "cell_type": "code",
   "execution_count": 38,
   "metadata": {},
   "outputs": [],
   "source": [
    "data_1 = {\n",
    "    \"text\":\"test block broadcast\"\n",
    "}"
   ]
  },
  {
   "cell_type": "code",
   "execution_count": 2,
   "metadata": {},
   "outputs": [],
   "source": [
    "from core.io_mem_pool import MemPool\n",
    "from core.new_block_creation import ProofOfWork, BlockException"
   ]
  },
  {
   "cell_type": "code",
   "execution_count": 3,
   "metadata": {},
   "outputs": [],
   "source": [
    "from core.transaction import Transaction"
   ]
  },
  {
   "cell_type": "code",
   "execution_count": 4,
   "metadata": {},
   "outputs": [],
   "source": [
    "from core.io_blockchain import BlockchainMemory"
   ]
  },
  {
   "cell_type": "code",
   "execution_count": 42,
   "metadata": {},
   "outputs": [],
   "source": [
    "transactions = [Transaction(data).transaction_data for data in [data_1]]"
   ]
  },
  {
   "cell_type": "code",
   "execution_count": 43,
   "metadata": {},
   "outputs": [],
   "source": [
    "mem_pool = MemPool()"
   ]
  },
  {
   "cell_type": "code",
   "execution_count": 5,
   "metadata": {},
   "outputs": [],
   "source": [
    "block_mem = BlockchainMemory()"
   ]
  },
  {
   "cell_type": "code",
   "execution_count": 6,
   "metadata": {},
   "outputs": [
    {
     "data": {
      "text/plain": [
       "<core.io_blockchain.BlockchainMemory at 0x103758770>"
      ]
     },
     "execution_count": 6,
     "metadata": {},
     "output_type": "execute_result"
    }
   ],
   "source": [
    "block_mem"
   ]
  },
  {
   "cell_type": "code",
   "execution_count": 45,
   "metadata": {},
   "outputs": [],
   "source": [
    "mem_pool.store_transactions_in_memory(transactions)"
   ]
  },
  {
   "cell_type": "code",
   "execution_count": 7,
   "metadata": {},
   "outputs": [],
   "source": [
    "blockchain = block_mem.get_blockchain_from_memory()"
   ]
  },
  {
   "cell_type": "code",
   "execution_count": 13,
   "metadata": {},
   "outputs": [
    {
     "data": {
      "text/plain": [
       "[{'header': {'height': 6,\n",
       "   'previous_block_hash': '000001e9324852baa0e6a3e53701f585e366accf983596e3b1e508d1245f4a72',\n",
       "   'merkle_root': '9636cf1e49e3d55a8ddfef99ceea9293b82ddb86fda74d0d897796d8088b7def',\n",
       "   'timestamp': 1715510368.527885,\n",
       "   'noonce': 532112,\n",
       "   'hash': '000001e58263e25266a893af025ed8e42888f027f911a5afc16773c55d21b36e'},\n",
       "  'transactions': [{'txid': 'b20f815e3411036f12041e18a67c17f33cf5539ba4228236003b8b3a6a71b626',\n",
       "    'timestamp': 1713084223.108483,\n",
       "    'data': {'test tx': 'Tx 6'}}]},\n",
       " {'header': {'height': 5,\n",
       "   'previous_block_hash': '000000b5ccd0e1de0bba29dc1233f772cad50cfff1025355d49749775dadcda4',\n",
       "   'merkle_root': '9636cf1e49e3d55a8ddfef99ceea9293b82ddb86fda74d0d897796d8088b7def',\n",
       "   'timestamp': 1715510193.993959,\n",
       "   'noonce': 4785520,\n",
       "   'hash': '000001e9324852baa0e6a3e53701f585e366accf983596e3b1e508d1245f4a72'},\n",
       "  'transactions': [{'txid': 'b20f815e3411036f12041e18a67c17f33cf5539ba4228236003b8b3a6a71b626',\n",
       "    'timestamp': 1713084223.108483,\n",
       "    'data': {'test tx': 'Tx 5'}}]},\n",
       " {'header': {'height': 4,\n",
       "   'previous_block_hash': '00000093958902915a8f304628ad4fff9d3d67ca1f2474db5c1ee52af827e7d9',\n",
       "   'merkle_root': '9636cf1e49e3d55a8ddfef99ceea9293b82ddb86fda74d0d897796d8088b7def',\n",
       "   'timestamp': 1715510174.002173,\n",
       "   'noonce': 176670,\n",
       "   'hash': '000000b5ccd0e1de0bba29dc1233f772cad50cfff1025355d49749775dadcda4'},\n",
       "  'transactions': [{'txid': 'b20f815e3411036f12041e18a67c17f33cf5539ba4228236003b8b3a6a71b626',\n",
       "    'timestamp': 1713084223.108483,\n",
       "    'data': {'test tx': 'Tx 4'}}]},\n",
       " {'header': {'height': 3,\n",
       "   'previous_block_hash': '0000015781e71d79dd79b80fcba42e0f21e97cc35021bb737257d53e76cb7c63',\n",
       "   'merkle_root': '9636cf1e49e3d55a8ddfef99ceea9293b82ddb86fda74d0d897796d8088b7def',\n",
       "   'timestamp': 1715509792.860367,\n",
       "   'noonce': 10497702,\n",
       "   'hash': '00000093958902915a8f304628ad4fff9d3d67ca1f2474db5c1ee52af827e7d9'},\n",
       "  'transactions': [{'txid': 'b20f815e3411036f12041e18a67c17f33cf5539ba4228236003b8b3a6a71b626',\n",
       "    'timestamp': 1713084223.108483,\n",
       "    'data': {'test tx': 'Tx 3'}}]},\n",
       " {'header': {'height': 2,\n",
       "   'previous_block_hash': '0000008fa82c779a20da8ce2013328346ba7a5d8e6107b841b8b094cec8c9ee8',\n",
       "   'merkle_root': '9636cf1e49e3d55a8ddfef99ceea9293b82ddb86fda74d0d897796d8088b7def',\n",
       "   'timestamp': 1715509753.491366,\n",
       "   'noonce': 708083,\n",
       "   'hash': '0000015781e71d79dd79b80fcba42e0f21e97cc35021bb737257d53e76cb7c63'},\n",
       "  'transactions': [{'txid': 'b20f815e3411036f12041e18a67c17f33cf5539ba4228236003b8b3a6a71b626',\n",
       "    'timestamp': 1713084223.108483,\n",
       "    'data': {'test tx': 'Tx 2'}}]},\n",
       " {'header': {'height': 1,\n",
       "   'previous_block_hash': 'a1c1096c962ebda9988c16fd9dcf119c76973fb08049b34bab69f716f395e206',\n",
       "   'merkle_root': '9636cf1e49e3d55a8ddfef99ceea9293b82ddb86fda74d0d897796d8088b7def',\n",
       "   'timestamp': 1715507383.988328,\n",
       "   'noonce': 6722882,\n",
       "   'hash': '0000008fa82c779a20da8ce2013328346ba7a5d8e6107b841b8b094cec8c9ee8'},\n",
       "  'transactions': [{'txid': 'b20f815e3411036f12041e18a67c17f33cf5539ba4228236003b8b3a6a71b626',\n",
       "    'timestamp': 1713084223.108483,\n",
       "    'data': {'student_name': 'Phạm Văn Minh',\n",
       "     'student_code': '19050023',\n",
       "     'teacher_name': 'Huỳnh Quang Đức',\n",
       "     'course_name': 'Digital Marketing',\n",
       "     'mark': '8.00'}}]},\n",
       " {'header': {'height': 0,\n",
       "   'previous_block_hash': '0000000000000000000000000000000000000000000000000000000000000000',\n",
       "   'merkle_root': 'b0fc67989fccb5f52be2c84a54315e7da39d0c8b00d4f69a153aa71fc4b6aa6e',\n",
       "   'timestamp': 1714409584.441593,\n",
       "   'noonce': 12,\n",
       "   'hash': 'a1c1096c962ebda9988c16fd9dcf119c76973fb08049b34bab69f716f395e206'},\n",
       "  'transactions': [{'txid': '1bc58c69e52a4d86cbd035f1313af0327336e4a1d1b7b1694fa64453881d2f09',\n",
       "    'timestamp': 1714409526.490535,\n",
       "    'data': {'Genesis': 'I wanna chain our education system - PVM'}}]}]"
      ]
     },
     "execution_count": 13,
     "metadata": {},
     "output_type": "execute_result"
    }
   ],
   "source": [
    "blockchain.to_dict"
   ]
  },
  {
   "cell_type": "code",
   "execution_count": 47,
   "metadata": {},
   "outputs": [],
   "source": [
    "pow = ProofOfWork()"
   ]
  },
  {
   "cell_type": "code",
   "execution_count": 48,
   "metadata": {},
   "outputs": [],
   "source": [
    "pow.create_new_block()"
   ]
  },
  {
   "cell_type": "code",
   "execution_count": 49,
   "metadata": {},
   "outputs": [
    {
     "data": {
      "text/plain": [
       "[{'header': {'previous_block_hash': '0000837fd530c540d68b540fbdf2372c83edb94b222e1edba8b025952576bf1f',\n",
       "   'merkle_root': 'f20be5ef83318d96b4858419ebaaa02bd81549da37f0d9d6e4489a4db9309a82',\n",
       "   'timestamp': 1713295339.190086,\n",
       "   'noonce': 4866,\n",
       "   'hash': '0000e956706529d498f390b2d8c3babd026b020d14dd77c48ea816b9c2cd43a0'},\n",
       "  'transactions': [{'txid': '63aed6c76cdcde70f420ded05408e63087d59b46ac0a30671a1bc0b4d3b85d70',\n",
       "    'timestamp': 1713295313.850471,\n",
       "    'data': {'text': 'test block broadcast'}}]}]"
      ]
     },
     "execution_count": 49,
     "metadata": {},
     "output_type": "execute_result"
    }
   ],
   "source": [
    "pow.new_block.to_dict"
   ]
  },
  {
   "cell_type": "code",
   "execution_count": null,
   "metadata": {},
   "outputs": [],
   "source": [
    "pow.new_block.previous_block = blockchain"
   ]
  },
  {
   "cell_type": "code",
   "execution_count": null,
   "metadata": {},
   "outputs": [],
   "source": []
  },
  {
   "cell_type": "code",
   "execution_count": null,
   "metadata": {},
   "outputs": [],
   "source": [
    "block_mem.store_blockchain_in_memory(pow.new_block)"
   ]
  },
  {
   "cell_type": "code",
   "execution_count": null,
   "metadata": {},
   "outputs": [],
   "source": [
    "blockchain.block_header.hash"
   ]
  },
  {
   "cell_type": "code",
   "execution_count": null,
   "metadata": {},
   "outputs": [],
   "source": [
    "mem_pool.get_transactions_from_memory()"
   ]
  },
  {
   "cell_type": "code",
   "execution_count": null,
   "metadata": {},
   "outputs": [],
   "source": [
    "mem_pool.clear_transactions_from_memory()"
   ]
  }
 ],
 "metadata": {
  "kernelspec": {
   "display_name": "blockchain-env",
   "language": "python",
   "name": "python3"
  },
  "language_info": {
   "codemirror_mode": {
    "name": "ipython",
    "version": 3
   },
   "file_extension": ".py",
   "mimetype": "text/x-python",
   "name": "python",
   "nbconvert_exporter": "python",
   "pygments_lexer": "ipython3",
   "version": "3.12.2"
  }
 },
 "nbformat": 4,
 "nbformat_minor": 2
}
