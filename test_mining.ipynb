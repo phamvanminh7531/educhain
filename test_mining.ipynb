{
 "cells": [
  {
   "cell_type": "code",
   "execution_count": 13,
   "metadata": {},
   "outputs": [],
   "source": [
    "data_1 = {\n",
    "    \"text\":\"test transaction hello 1\"\n",
    "}\n",
    "data_2 = {\n",
    "    \"text\":\"test transaction hello 2\"\n",
    "}\n",
    "data_3 = {\n",
    "    \"text\":\"test transaction hello 4\"\n",
    "}\n",
    "data_4 = {\n",
    "    \"text\":\"test transaction hello 3\"\n",
    "}\n",
    "data_5 = {\n",
    "    \"text\":\"test transaction hello 4\"\n",
    "}"
   ]
  },
  {
   "cell_type": "code",
   "execution_count": 2,
   "metadata": {},
   "outputs": [],
   "source": [
    "from core.io_mem_pool import MemPool\n",
    "from core.new_block_creation import ProofOfWork, BlockException"
   ]
  },
  {
   "cell_type": "code",
   "execution_count": 3,
   "metadata": {},
   "outputs": [],
   "source": [
    "from core.transaction import Transaction"
   ]
  },
  {
   "cell_type": "code",
   "execution_count": 4,
   "metadata": {},
   "outputs": [],
   "source": [
    "from core.io_blockchain import BlockchainMemory"
   ]
  },
  {
   "cell_type": "code",
   "execution_count": 15,
   "metadata": {},
   "outputs": [],
   "source": [
    "transactions = [Transaction(data).transaction_data for data in [data_1,data_2,data_3, data_4, data_5]]"
   ]
  },
  {
   "cell_type": "code",
   "execution_count": 31,
   "metadata": {},
   "outputs": [],
   "source": [
    "mem_pool = MemPool()"
   ]
  },
  {
   "cell_type": "code",
   "execution_count": 32,
   "metadata": {},
   "outputs": [],
   "source": [
    "block_mem = BlockchainMemory()"
   ]
  },
  {
   "cell_type": "code",
   "execution_count": 33,
   "metadata": {},
   "outputs": [],
   "source": [
    "mem_pool.store_transactions_in_memory(transactions)"
   ]
  },
  {
   "cell_type": "code",
   "execution_count": 34,
   "metadata": {},
   "outputs": [],
   "source": [
    "blockchain = block_mem.get_blockchain_from_memory()"
   ]
  },
  {
   "cell_type": "code",
   "execution_count": 35,
   "metadata": {},
   "outputs": [],
   "source": [
    "pow = ProofOfWork()"
   ]
  },
  {
   "cell_type": "code",
   "execution_count": 36,
   "metadata": {},
   "outputs": [],
   "source": [
    "pow.create_new_block()"
   ]
  },
  {
   "cell_type": "code",
   "execution_count": 37,
   "metadata": {},
   "outputs": [
    {
     "data": {
      "text/plain": [
       "[{'header': {'previous_block_hash': '0000d23e3f4fc5282309303f1dc3113804630c65cb3282fa08198a3a8d793863',\n",
       "   'merkle_root': '1cff183a033f7c723c9f24bae356acb666ab44d95f2383f137461ddfb928cd53',\n",
       "   'timestamp': 1713202032.80442,\n",
       "   'noonce': 42614,\n",
       "   'hash': '0000837fd530c540d68b540fbdf2372c83edb94b222e1edba8b025952576bf1f'},\n",
       "  'transactions': [{'txid': 'a71949447bf235eda8c41b88680519fcf093136a8a6516d351d1a3d02f114405',\n",
       "    'timestamp': 1713201842.039178,\n",
       "    'data': {'text': 'test transaction hello 1'}},\n",
       "   {'txid': '99bc14fcaf06e701327fcc233ca101cae0b9ce26efd51840bc82f137ca6e48a5',\n",
       "    'timestamp': 1713201842.039276,\n",
       "    'data': {'text': 'test transaction hello 2'}},\n",
       "   {'txid': 'e6d493195608444a7d3a7e82f7895d282ec7c3c5b3cd6279cb90891453dbec9f',\n",
       "    'timestamp': 1713201842.039499,\n",
       "    'data': {'text': 'test transaction hello 4'}},\n",
       "   {'txid': '9eb11104718cc95c8732b32fe433100f649f7dd4bf96b073c709b864746b3872',\n",
       "    'timestamp': 1713201842.039839,\n",
       "    'data': {'text': 'test transaction hello 3'}},\n",
       "   {'txid': '913eba6e2df7292486f883626643ba53419a5c61b7051fcb3a7a9fc940b4c0ac',\n",
       "    'timestamp': 1713201842.039935,\n",
       "    'data': {'text': 'test transaction hello 4'}}]}]"
      ]
     },
     "execution_count": 37,
     "metadata": {},
     "output_type": "execute_result"
    }
   ],
   "source": [
    "pow.new_block.to_dict"
   ]
  },
  {
   "cell_type": "code",
   "execution_count": null,
   "metadata": {},
   "outputs": [],
   "source": [
    "pow.new_block.previous_block = blockchain"
   ]
  },
  {
   "cell_type": "code",
   "execution_count": null,
   "metadata": {},
   "outputs": [],
   "source": []
  },
  {
   "cell_type": "code",
   "execution_count": null,
   "metadata": {},
   "outputs": [],
   "source": [
    "block_mem.store_blockchain_in_memory(pow.new_block)"
   ]
  },
  {
   "cell_type": "code",
   "execution_count": null,
   "metadata": {},
   "outputs": [],
   "source": [
    "blockchain.block_header.hash"
   ]
  },
  {
   "cell_type": "code",
   "execution_count": null,
   "metadata": {},
   "outputs": [],
   "source": [
    "mem_pool.get_transactions_from_memory()"
   ]
  },
  {
   "cell_type": "code",
   "execution_count": null,
   "metadata": {},
   "outputs": [],
   "source": [
    "mem_pool.clear_transactions_from_memory()"
   ]
  }
 ],
 "metadata": {
  "kernelspec": {
   "display_name": "blockchain-env",
   "language": "python",
   "name": "python3"
  },
  "language_info": {
   "codemirror_mode": {
    "name": "ipython",
    "version": 3
   },
   "file_extension": ".py",
   "mimetype": "text/x-python",
   "name": "python",
   "nbconvert_exporter": "python",
   "pygments_lexer": "ipython3",
   "version": "3.12.2"
  }
 },
 "nbformat": 4,
 "nbformat_minor": 2
}
