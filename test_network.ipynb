{
 "cells": [
  {
   "cell_type": "code",
   "execution_count": 1,
   "metadata": {},
   "outputs": [],
   "source": [
    "from core.network import Network"
   ]
  },
  {
   "cell_type": "code",
   "execution_count": 2,
   "metadata": {},
   "outputs": [],
   "source": [
    "from core.node import Node, EcertNode"
   ]
  },
  {
   "cell_type": "code",
   "execution_count": 3,
   "metadata": {},
   "outputs": [
    {
     "data": {
      "text/plain": [
       "{'user_code': '19050099',\n",
       " 'public_key': '30819f300d06092a864886f70d010101050003818d0030818902818100cb777bac75b11b988fdea24db529c103ac96a8b3c3e64aa9c9742efe4e11fbe698611e8a4a2fe3b3bb53f86974a4af38014ff7bbb03dfc83c71e35b11479b36e8e8233c0914fc39b968c5630fbd953371fcaf868fe7476fc5dc8458e085d0e13b3fc1264880bbeb00a66e7771b1c95db0af04d0f1efa29917d0e52d9b6cbcec10203010001'}"
      ]
     },
     "execution_count": 3,
     "metadata": {},
     "output_type": "execute_result"
    }
   ],
   "source": [
    "EcertNode().get_user_public_key(\"19050099\")"
   ]
  },
  {
   "cell_type": "code",
   "execution_count": 5,
   "metadata": {},
   "outputs": [],
   "source": [
    "mynode = Node(\"127.0.0.1:8000\")"
   ]
  },
  {
   "cell_type": "code",
   "execution_count": 6,
   "metadata": {},
   "outputs": [],
   "source": [
    "a = Network(mynode)"
   ]
  },
  {
   "cell_type": "code",
   "execution_count": 7,
   "metadata": {},
   "outputs": [],
   "source": [
    "a.initialize_known_nodes_file()"
   ]
  },
  {
   "cell_type": "code",
   "execution_count": 9,
   "metadata": {},
   "outputs": [
    {
     "data": {
      "text/plain": [
       "[{'hostname': '127.0.0.1:8000'}, {'hostname': '127.0.0.1:8000'}]"
      ]
     },
     "execution_count": 9,
     "metadata": {},
     "output_type": "execute_result"
    }
   ],
   "source": [
    "a.return_known_nodes()"
   ]
  }
 ],
 "metadata": {
  "kernelspec": {
   "display_name": "blockchain-env",
   "language": "python",
   "name": "python3"
  },
  "language_info": {
   "codemirror_mode": {
    "name": "ipython",
    "version": 3
   },
   "file_extension": ".py",
   "mimetype": "text/x-python",
   "name": "python",
   "nbconvert_exporter": "python",
   "pygments_lexer": "ipython3",
   "version": "3.12.2"
  }
 },
 "nbformat": 4,
 "nbformat_minor": 2
}
